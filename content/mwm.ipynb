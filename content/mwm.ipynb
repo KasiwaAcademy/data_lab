{
 "cells": [
  {
   "cell_type": "markdown",
   "id": "63614c9b-7ca2-465e-ac1c-8d0e0e423c80",
   "metadata": {},
   "source": [
    "## Just like That"
   ]
  },
  {
   "cell_type": "code",
   "execution_count": 1,
   "id": "b870277b-02f2-4861-ac5a-1ea67258f465",
   "metadata": {},
   "outputs": [
    {
     "name": "stdout",
     "output_type": "stream",
     "text": [
      "97\n"
     ]
    }
   ],
   "source": [
    "p = 57 + 40\n",
    "print(p)"
   ]
  },
  {
   "cell_type": "markdown",
   "id": "1770b616-62fd-409a-99c9-a4d0ddc6e492",
   "metadata": {},
   "source": [
    "McBrown Mwale"
   ]
  }
 ],
 "metadata": {
  "kernelspec": {
   "display_name": "Python 3 (ipykernel)",
   "language": "python",
   "name": "python3"
  },
  "language_info": {
   "codemirror_mode": {
    "name": "ipython",
    "version": 3
   },
   "file_extension": ".py",
   "mimetype": "text/x-python",
   "name": "python",
   "nbconvert_exporter": "python",
   "pygments_lexer": "ipython3",
   "version": "3.12.7"
  }
 },
 "nbformat": 4,
 "nbformat_minor": 5
}
